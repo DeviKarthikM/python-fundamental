{
 "cells": [
  {
   "cell_type": "code",
   "execution_count": 1,
   "metadata": {},
   "outputs": [
    {
     "name": "stdout",
     "output_type": "stream",
     "text": [
      "['fz', 'pulsar', 'bmw', 'ninja', 'activa', 'java']\n"
     ]
    }
   ],
   "source": [
    "bikes = ['fz', 'pulsar', 'bmw', 'ninja', 'activa', 'java']\n",
    "print(bikes)"
   ]
  },
  {
   "cell_type": "code",
   "execution_count": 2,
   "metadata": {},
   "outputs": [
    {
     "name": "stdout",
     "output_type": "stream",
     "text": [
      "['activa', 'bmw', 'fz', 'java', 'ninja', 'pulsar']\n"
     ]
    }
   ],
   "source": [
    "print(sorted(bikes))"
   ]
  },
  {
   "cell_type": "code",
   "execution_count": 4,
   "metadata": {},
   "outputs": [],
   "source": [
    "bikes.sort()"
   ]
  },
  {
   "cell_type": "code",
   "execution_count": 7,
   "metadata": {},
   "outputs": [
    {
     "name": "stdout",
     "output_type": "stream",
     "text": [
      "['activa', 'bmw', 'fz', 'java', 'ninja', 'pulsar']\n"
     ]
    }
   ],
   "source": [
    "print(bikes)"
   ]
  },
  {
   "cell_type": "code",
   "execution_count": 10,
   "metadata": {},
   "outputs": [
    {
     "name": "stdout",
     "output_type": "stream",
     "text": [
      "['pulsar', 'ninja', 'java', 'fz', 'bmw', 'activa']\n"
     ]
    }
   ],
   "source": [
    "bikes.reverse()\n",
    "print(bikes)"
   ]
  },
  {
   "cell_type": "code",
   "execution_count": 11,
   "metadata": {},
   "outputs": [
    {
     "name": "stdout",
     "output_type": "stream",
     "text": [
      "['devi', 'karthik', 'suresh', 'mala', 'meena', 'mari', 'muthu', 'mahesh', 'kutty']\n"
     ]
    }
   ],
   "source": [
    "students = ['devi', 'karthik', 'suresh', 'mala', 'meena', 'mari', 'muthu', 'mahesh', 'kutty']\n",
    "print(students)"
   ]
  },
  {
   "cell_type": "code",
   "execution_count": 12,
   "metadata": {},
   "outputs": [
    {
     "name": "stdout",
     "output_type": "stream",
     "text": [
      "['devi', 'karthik', 'suresh', 'mala', 'meena']\n"
     ]
    }
   ],
   "source": [
    "print(students[0:5])"
   ]
  },
  {
   "cell_type": "code",
   "execution_count": 13,
   "metadata": {},
   "outputs": [
    {
     "name": "stdout",
     "output_type": "stream",
     "text": [
      "['suresh', 'mala', 'meena', 'mari', 'muthu', 'mahesh', 'kutty']\n"
     ]
    }
   ],
   "source": [
    "print(students[2:10])"
   ]
  },
  {
   "cell_type": "code",
   "execution_count": 14,
   "metadata": {},
   "outputs": [
    {
     "name": "stdout",
     "output_type": "stream",
     "text": [
      "['devi', 'meena']\n"
     ]
    }
   ],
   "source": [
    "print(students[0:5:4])"
   ]
  },
  {
   "cell_type": "code",
   "execution_count": null,
   "metadata": {},
   "outputs": [],
   "source": []
  }
 ],
 "metadata": {
  "kernelspec": {
   "display_name": "Python 3",
   "language": "python",
   "name": "python3"
  },
  "language_info": {
   "codemirror_mode": {
    "name": "ipython",
    "version": 3
   },
   "file_extension": ".py",
   "mimetype": "text/x-python",
   "name": "python",
   "nbconvert_exporter": "python",
   "pygments_lexer": "ipython3",
   "version": "3.8.5"
  }
 },
 "nbformat": 4,
 "nbformat_minor": 4
}
